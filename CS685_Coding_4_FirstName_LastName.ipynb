{
 "cells": [
  {
   "cell_type": "code",
   "execution_count": null,
   "id": "16700436-f914-4504-bdd8-d5cf0772db15",
   "metadata": {},
   "outputs": [],
   "source": [
    "import heapq"
   ]
  },
  {
   "cell_type": "code",
   "execution_count": null,
   "id": "1f52b3cc-929b-40e0-a123-f42546ac0361",
   "metadata": {},
   "outputs": [],
   "source": [
    "class StockPrice:\n",
    "\n",
    "    def __init__(self):\n",
    "        # TODO\n",
    "\n",
    "    def update(self, timestamp: int, price: int) -> None:\n",
    "        # TODO\n",
    "\n",
    "    def current(self) -> int:\n",
    "        # TODO\n",
    "\n",
    "    def maximum(self) -> int:\n",
    "        # TODO\n",
    "\n",
    "    def minimum(self) -> int:\n",
    "        # TODO"
   ]
  },
  {
   "cell_type": "code",
   "execution_count": null,
   "id": "30560ea5-65f0-4a15-8026-d42e8954a749",
   "metadata": {},
   "outputs": [],
   "source": [
    "# Test case 1\n",
    "obj = StockPrice()\n",
    "obj.update(1, 10)\n",
    "obj.update(2, 5)\n",
    "output1 = obj.current()\n",
    "output2 = obj.maximum()\n",
    "obj.update(1, 3)\n",
    "output3 = obj.maximum()\n",
    "obj.update(4, 2)\n",
    "output4 = obj.minimum()\n",
    "print(output1, output2, output3, output4)"
   ]
  },
  {
   "cell_type": "code",
   "execution_count": null,
   "id": "f3fcc24d-e5fa-451f-9a43-c4fc5f99685d",
   "metadata": {},
   "outputs": [],
   "source": [
    "# Test case 2\n",
    "obj = StockPrice()\n",
    "obj.update(7, 30)\n",
    "obj.update(5, 45)\n",
    "obj.update(9, 35)\n",
    "obj.update(5, 50) \n",
    "obj.update(10, 40)\n",
    "output1 = obj.current()  \n",
    "output2 = obj.maximum()  \n",
    "output3 = obj.minimum()  \n",
    "obj.update(8, 25)\n",
    "output4 = obj.minimum()  \n",
    "obj.update(10, 42)       \n",
    "output5 = obj.current()\n",
    "print(output1, output2, output3, output4, output5)"
   ]
  },
  {
   "cell_type": "code",
   "execution_count": null,
   "id": "4abd98d6-3d99-4c4e-a8fa-d099cd8f9ffa",
   "metadata": {},
   "outputs": [],
   "source": [
    "# Test case 3\n",
    "obj = StockPrice()\n",
    "obj.update(1, 100)\n",
    "obj.update(2, 200)\n",
    "obj.update(3, 50)\n",
    "obj.update(4, 250)\n",
    "obj.update(5, 75)\n",
    "output1 = obj.current() \n",
    "output2 = obj.maximum() \n",
    "output3 = obj.minimum()  \n",
    "obj.update(3, 300)       \n",
    "output4 = obj.maximum() \n",
    "obj.update(5, 25)     \n",
    "output5 = obj.minimum()  \n",
    "obj.update(6, 150)\n",
    "output6 = obj.current()  # Should return 150 (latest price at timestamp 6)\n",
    "print(output1, output2, output3, output4, output5, output6)"
   ]
  }
 ],
 "metadata": {
  "kernelspec": {
   "display_name": "Python 3 (ipykernel)",
   "language": "python",
   "name": "python3"
  },
  "language_info": {
   "codemirror_mode": {
    "name": "ipython",
    "version": 3
   },
   "file_extension": ".py",
   "mimetype": "text/x-python",
   "name": "python",
   "nbconvert_exporter": "python",
   "pygments_lexer": "ipython3",
   "version": "3.8.19"
  }
 },
 "nbformat": 4,
 "nbformat_minor": 5
}
